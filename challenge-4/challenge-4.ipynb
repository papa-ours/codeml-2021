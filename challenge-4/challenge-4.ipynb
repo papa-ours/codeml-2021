{
 "cells": [
  {
   "cell_type": "markdown",
   "id": "2a08175b",
   "metadata": {},
   "source": [
    "# Learners"
   ]
  },
  {
   "cell_type": "code",
   "execution_count": 1,
   "id": "57370223",
   "metadata": {},
   "outputs": [],
   "source": [
    "from sklearn.feature_extraction.text import CountVectorizer\n",
    "import pandas as pd\n",
    "import nltk\n",
    "import numpy as np, pandas as pd\n",
    "import matplotlib.pyplot as plt\n",
    "from sklearn.datasets import fetch_20newsgroups\n",
    "from sklearn.feature_extraction.text import TfidfVectorizer, TfidfTransformer\n",
    "from sklearn.naive_bayes import MultinomialNB\n",
    "from sklearn.pipeline import make_pipeline\n",
    "from sklearn.metrics import confusion_matrix, accuracy_score\n",
    "from sklearn.model_selection import train_test_split\n",
    "from nltk.stem.snowball import SnowballStemmer\n",
    "\n",
    "english_stemmer = nltk.stem.SnowballStemmer('english')\n",
    "\n",
    "class StemmedTfidfVectorizer(TfidfVectorizer):\n",
    "    def build_analyzer(self):\n",
    "        analyzer = super(TfidfVectorizer, self).build_analyzer()\n",
    "        return lambda doc: (english_stemmer.stem(w) for w in analyzer(doc))\n",
    "    \n",
    "    \n",
    "\n",
    "train_file = \"data\\\\train.csv\"\n",
    "test_file = \"data\\\\test_text.csv\"\n",
    "\n",
    "train_df = pd.read_csv(train_file)\n",
    "test_df = pd.read_csv(test_file)\n",
    "\n",
    "\n",
    "X, X_valid, y, y_valid = train_test_split(train_df.text, train_df.subreddit, test_size=0.001, random_state=42)\n"
   ]
  },
  {
   "cell_type": "code",
   "execution_count": 3,
   "id": "46722491",
   "metadata": {},
   "outputs": [],
   "source": [
    "tfidf_transformer = StemmedTfidfVectorizer()\n",
    "tfidf_transformer.fit(list(train_df.text) + list(test_df.text))\n",
    "\n",
    "X_tfidf = tfidf_transformer.transform(X)\n",
    "X_test_tfidf = tfidf_transformer.transform(test_df.text)\n",
    "X_valid_tfidf = tfidf_transformer.transform(X_valid)"
   ]
  },
  {
   "cell_type": "code",
   "execution_count": 4,
   "id": "96e59a6b",
   "metadata": {},
   "outputs": [],
   "source": [
    "from sklearn.linear_model import LogisticRegression\n",
    "from sklearn.ensemble import RandomForestClassifier\n",
    "from sklearn.naive_bayes import MultinomialNB\n",
    "from sklearn.svm import LinearSVC\n",
    "\n",
    "# model = LinearSVC()\n",
    "model = MultinomialNB(fit_prior=False, alpha=1e-1)\n",
    "model.fit(X_tfidf, y)\n",
    "# Predict the categories of the test data\n",
    "predicted_categories = model.predict(X_test_tfidf)\n",
    "predicted_categories_valid = model.predict(X_valid_tfidf)"
   ]
  },
  {
   "cell_type": "code",
   "execution_count": 5,
   "id": "c191c51e",
   "metadata": {},
   "outputs": [
    {
     "data": {
      "text/plain": [
       "0.7333333333333333"
      ]
     },
     "execution_count": 5,
     "metadata": {},
     "output_type": "execute_result"
    }
   ],
   "source": [
    "from sklearn.metrics import classification_report, f1_score\n",
    "\n",
    "f1_score(y_valid, predicted_categories_valid, average='micro')"
   ]
  },
  {
   "cell_type": "code",
   "execution_count": 6,
   "id": "95f26d35",
   "metadata": {},
   "outputs": [],
   "source": [
    "test_df[\"subreddit\"] = predicted_categories"
   ]
  },
  {
   "cell_type": "code",
   "execution_count": 7,
   "id": "b4ec9da9",
   "metadata": {},
   "outputs": [],
   "source": [
    "test_df[\"id\"] = test_df.index"
   ]
  },
  {
   "cell_type": "code",
   "execution_count": 8,
   "id": "576674d5",
   "metadata": {},
   "outputs": [],
   "source": [
    "submission_df = test_df.drop(columns=[\"text\"])"
   ]
  },
  {
   "cell_type": "code",
   "execution_count": 9,
   "id": "c42627a2",
   "metadata": {},
   "outputs": [],
   "source": [
    "submission_df.to_csv(\"submission_2.csv\", index=False)"
   ]
  },
  {
   "cell_type": "markdown",
   "id": "6c3b46ad",
   "metadata": {},
   "source": [
    "# Ensemble"
   ]
  },
  {
   "cell_type": "code",
   "execution_count": 15,
   "id": "74b1a83b",
   "metadata": {},
   "outputs": [],
   "source": [
    "\n",
    "dfs = [pd.read_csv(f\"submission_{i}.csv\") for i in range(1, 5)]\n"
   ]
  },
  {
   "cell_type": "code",
   "execution_count": 21,
   "id": "0169780d",
   "metadata": {},
   "outputs": [],
   "source": [
    "from collections import Counter\n",
    "\n",
    "df_ensemble = dfs[0].copy()\n",
    "\n",
    "for i, row in df_ensemble.iterrows():\n",
    "    subreddits = Counter([df.loc[i, \"subreddit\"] for df in dfs])\n",
    "    df_ensemble.loc[i, \"subreddit\"] = subreddits.most_common(1)[0][0]\n",
    "    "
   ]
  },
  {
   "cell_type": "code",
   "execution_count": 24,
   "id": "7663cd0c",
   "metadata": {},
   "outputs": [],
   "source": [
    "df_ensemble.to_csv(\"submission_ensemble.csv\", index=False)"
   ]
  },
  {
   "cell_type": "code",
   "execution_count": null,
   "id": "3c8d6254",
   "metadata": {},
   "outputs": [],
   "source": []
  }
 ],
 "metadata": {
  "kernelspec": {
   "display_name": "Python 3",
   "language": "python",
   "name": "python3"
  },
  "language_info": {
   "codemirror_mode": {
    "name": "ipython",
    "version": 3
   },
   "file_extension": ".py",
   "mimetype": "text/x-python",
   "name": "python",
   "nbconvert_exporter": "python",
   "pygments_lexer": "ipython3",
   "version": "3.8.8"
  }
 },
 "nbformat": 4,
 "nbformat_minor": 5
}
