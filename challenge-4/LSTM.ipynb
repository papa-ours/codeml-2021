{
  "nbformat": 4,
  "nbformat_minor": 5,
  "metadata": {
    "kernelspec": {
      "display_name": "Python 3",
      "language": "python",
      "name": "python3"
    },
    "language_info": {
      "codemirror_mode": {
        "name": "ipython",
        "version": 3
      },
      "file_extension": ".py",
      "mimetype": "text/x-python",
      "name": "python",
      "nbconvert_exporter": "python",
      "pygments_lexer": "ipython3",
      "version": "3.8.3"
    },
    "colab": {
      "name": "Copy of Untitled.ipynb",
      "provenance": [],
      "collapsed_sections": []
    },
    "accelerator": "GPU"
  },
  "cells": [
    {
      "cell_type": "code",
      "metadata": {
        "colab": {
          "base_uri": "https://localhost:8080/"
        },
        "id": "DtkikKAmlx_b",
        "outputId": "cfe56cbc-e2fe-4c5c-cecc-2920a80e441b"
      },
      "source": [
        "from google.colab import drive\n",
        "drive.mount('/content/drive')"
      ],
      "id": "DtkikKAmlx_b",
      "execution_count": null,
      "outputs": [
        {
          "output_type": "stream",
          "name": "stdout",
          "text": [
            "Mounted at /content/drive\n"
          ]
        }
      ]
    },
    {
      "cell_type": "code",
      "metadata": {
        "id": "cbbAgRkmlth9"
      },
      "source": [
        "from sklearn.feature_extraction.text import CountVectorizer\n",
        "import pandas as pd\n",
        "import nltk\n",
        "import numpy as np, pandas as pd\n",
        "import matplotlib.pyplot as plt\n",
        "from sklearn.datasets import fetch_20newsgroups\n",
        "from sklearn.feature_extraction.text import TfidfVectorizer, TfidfTransformer\n",
        "from sklearn.naive_bayes import MultinomialNB\n",
        "from sklearn.pipeline import make_pipeline\n",
        "from sklearn.metrics import confusion_matrix, accuracy_score, f1_score\n",
        "from sklearn.model_selection import train_test_split\n",
        "from nltk.stem.snowball import SnowballStemmer\n",
        "import os\n",
        "\n",
        "DATA_DIR = '/content/drive/MyDrive/codeml/challenge-4/data'\n",
        "\n",
        "train_file = os.path.join(DATA_DIR, 'train.csv')\n",
        "test_file = os.path.join(DATA_DIR, 'test_text.csv')\n",
        "\n",
        "train_df = pd.read_csv(train_file)\n",
        "test_df = pd.read_csv(test_file)"
      ],
      "id": "cbbAgRkmlth9",
      "execution_count": null,
      "outputs": []
    },
    {
      "cell_type": "code",
      "metadata": {
        "id": "8XCGka4yltiL"
      },
      "source": [
        "import tensorflow as tf\n",
        "import keras\n",
        "from keras import layers\n",
        "from keras.layers import Input, Dense, Dropout"
      ],
      "id": "8XCGka4yltiL",
      "execution_count": null,
      "outputs": []
    },
    {
      "cell_type": "code",
      "metadata": {
        "id": "sIE7bzVjltiD"
      },
      "source": [
        "import gensim"
      ],
      "id": "sIE7bzVjltiD",
      "execution_count": null,
      "outputs": []
    },
    {
      "cell_type": "code",
      "metadata": {
        "id": "UNGvoP9FltiE"
      },
      "source": [
        "class RedditCorpus:\n",
        "    def __init__(self, filename):\n",
        "        self.df = pd.read_csv(filename)\n",
        "    \n",
        "    def __iter__(self):\n",
        "        for i, row in self.df.iterrows():\n",
        "            yield gensim.utils.simple_preprocess(row.text)"
      ],
      "id": "UNGvoP9FltiE",
      "execution_count": null,
      "outputs": []
    },
    {
      "cell_type": "code",
      "metadata": {
        "id": "CtYMUZDFltiF"
      },
      "source": [
        "VEC_SIZE = 100"
      ],
      "id": "CtYMUZDFltiF",
      "execution_count": null,
      "outputs": []
    },
    {
      "cell_type": "code",
      "metadata": {
        "id": "Bt4Km9aFltiI"
      },
      "source": [
        "word2vec = gensim.models.Word2Vec(\n",
        "    sentences = RedditCorpus(train_file),\n",
        "    size = VEC_SIZE,\n",
        "    workers = 4,\n",
        "    window = 10,\n",
        "    min_count = 2,\n",
        ")"
      ],
      "id": "Bt4Km9aFltiI",
      "execution_count": null,
      "outputs": []
    },
    {
      "cell_type": "code",
      "metadata": {
        "id": "TWMrYshBltiI"
      },
      "source": [
        "token_id_map = {word: (i + 1) for i, word in enumerate(list(word2vec.wv.vocab.keys()))}"
      ],
      "id": "TWMrYshBltiI",
      "execution_count": null,
      "outputs": []
    },
    {
      "cell_type": "code",
      "metadata": {
        "id": "SwGa4E_ultiJ"
      },
      "source": [
        "def doc2vec(text):\n",
        "    vectors = [word2vec.wv[token] for token in text if token in word2vec.wv.vocab]\n",
        "    \n",
        "    return np.mean(vectors, axis=0) if len(vectors) else np.zeros(VEC_SIZE)\n",
        "\n",
        "def text_to_token_ids(text):\n",
        "    return np.array([token_id_map.get(token, 0) for token in text if token in token_id_map])"
      ],
      "id": "SwGa4E_ultiJ",
      "execution_count": null,
      "outputs": []
    },
    {
      "cell_type": "code",
      "metadata": {
        "id": "u6McBEYgltiJ"
      },
      "source": [
        "embeddings = {(i + 1): word2vec.wv[word] for i, word in enumerate(list(word2vec.wv.vocab.keys()))}\n",
        "embeddings[0] = np.zeros(VEC_SIZE)"
      ],
      "id": "u6McBEYgltiJ",
      "execution_count": null,
      "outputs": []
    },
    {
      "cell_type": "code",
      "metadata": {
        "colab": {
          "base_uri": "https://localhost:8080/"
        },
        "id": "95Qez3xkltiJ",
        "outputId": "2b9199ab-543b-4647-cad1-4671c1e22594"
      },
      "source": [
        "train_corpus = RedditCorpus(train_file)\n",
        "\n",
        "X = [text_to_token_ids(text) for text in train_corpus]\n",
        "X = np.array(X)"
      ],
      "id": "95Qez3xkltiJ",
      "execution_count": null,
      "outputs": [
        {
          "output_type": "stream",
          "name": "stderr",
          "text": [
            "/usr/local/lib/python3.7/dist-packages/ipykernel_launcher.py:4: VisibleDeprecationWarning: Creating an ndarray from ragged nested sequences (which is a list-or-tuple of lists-or-tuples-or ndarrays with different lengths or shapes) is deprecated. If you meant to do this, you must specify 'dtype=object' when creating the ndarray\n",
            "  after removing the cwd from sys.path.\n"
          ]
        }
      ]
    },
    {
      "cell_type": "code",
      "metadata": {
        "id": "qLlokHH9ltiK"
      },
      "source": [
        "SEQUENCE_LEN = 120"
      ],
      "id": "qLlokHH9ltiK",
      "execution_count": null,
      "outputs": []
    },
    {
      "cell_type": "code",
      "metadata": {
        "id": "pKSeZeghltiK"
      },
      "source": [
        "X_padded = tf.keras.preprocessing.sequence.pad_sequences(\n",
        "    X,\n",
        "    padding='post',\n",
        "    value=0,\n",
        "    maxlen=SEQUENCE_LEN,\n",
        ")"
      ],
      "id": "pKSeZeghltiK",
      "execution_count": null,
      "outputs": []
    },
    {
      "cell_type": "code",
      "metadata": {
        "id": "ALuOV8elltiK"
      },
      "source": [
        "value_map = {subreddit: i  for i, subreddit in enumerate(train_df.subreddit.unique())}\n",
        "value_map_inv = {i: subreddit  for i, subreddit in enumerate(train_df.subreddit.unique())}"
      ],
      "id": "ALuOV8elltiK",
      "execution_count": null,
      "outputs": []
    },
    {
      "cell_type": "code",
      "metadata": {
        "id": "rstH7mg2ltiL"
      },
      "source": [
        "y = train_df.subreddit.apply(lambda subreddit: value_map.get(subreddit)).values"
      ],
      "id": "rstH7mg2ltiL",
      "execution_count": null,
      "outputs": []
    },
    {
      "cell_type": "code",
      "metadata": {
        "id": "ym3ln86HltiL"
      },
      "source": [
        "X_train, X_valid, y_train, y_valid = train_test_split(X_padded, y, test_size = .1)"
      ],
      "id": "ym3ln86HltiL",
      "execution_count": null,
      "outputs": []
    },
    {
      "cell_type": "code",
      "metadata": {
        "colab": {
          "base_uri": "https://localhost:8080/"
        },
        "id": "lZjmSqW9ltiM",
        "outputId": "a12aec6c-beab-4175-cedb-4461e7b16996"
      },
      "source": [
        "model = tf.keras.Sequential([\n",
        "    layers.Embedding(\n",
        "        len(embeddings),\n",
        "        VEC_SIZE,\n",
        "        input_length=SEQUENCE_LEN,\n",
        "        trainable=True),\n",
        "    layers.Bidirectional(layers.LSTM(64, input_shape=(SEQUENCE_LEN, VEC_SIZE))),\n",
        "    layers.Dense(32),\n",
        "    layers.Dense(len(value_map), activation='softmax')\n",
        "])\n",
        "model.compile(loss=keras.losses.SparseCategoricalCrossentropy(), optimizer='adam', metrics='accuracy')\n",
        "model.summary()"
      ],
      "id": "lZjmSqW9ltiM",
      "execution_count": null,
      "outputs": [
        {
          "output_type": "stream",
          "name": "stdout",
          "text": [
            "Model: \"sequential_14\"\n",
            "_________________________________________________________________\n",
            " Layer (type)                Output Shape              Param #   \n",
            "=================================================================\n",
            " embedding_13 (Embedding)    (None, 120, 100)          2726600   \n",
            "                                                                 \n",
            " bidirectional_13 (Bidirecti  (None, 128)              84480     \n",
            " onal)                                                           \n",
            "                                                                 \n",
            " dense_25 (Dense)            (None, 32)                4128      \n",
            "                                                                 \n",
            " dense_26 (Dense)            (None, 5)                 165       \n",
            "                                                                 \n",
            "=================================================================\n",
            "Total params: 2,815,373\n",
            "Trainable params: 2,815,373\n",
            "Non-trainable params: 0\n",
            "_________________________________________________________________\n"
          ]
        }
      ]
    },
    {
      "cell_type": "code",
      "metadata": {
        "id": "4zLExa09ltiM"
      },
      "source": [
        "model.compile(\n",
        "    optimizer=tf.keras.optimizers.Adam(learning_rate=1e-3),\n",
        "    loss=tf.keras.losses.SparseCategoricalCrossentropy(),\n",
        "    metrics='accuracy',\n",
        ")"
      ],
      "id": "4zLExa09ltiM",
      "execution_count": null,
      "outputs": []
    },
    {
      "cell_type": "code",
      "metadata": {
        "id": "7PdfX2rRltiM"
      },
      "source": [
        "train_dataset = tf.data.Dataset.from_tensor_slices((X_padded, y))\n",
        "train_dataset = train_dataset.shuffle(buffer_size=1024).batch(16)\n",
        "\n",
        "# Prepare the validation dataset\n",
        "# val_dataset = tf.data.Dataset.from_tensor_slices((X_valid, y_valid))\n",
        "# val_dataset = val_dataset.batch(16)"
      ],
      "id": "7PdfX2rRltiM",
      "execution_count": null,
      "outputs": []
    },
    {
      "cell_type": "code",
      "metadata": {
        "colab": {
          "base_uri": "https://localhost:8080/",
          "height": 503
        },
        "id": "Be_ZGDaCltiM",
        "outputId": "bdc48d40-5bc0-4377-b7e5-61b8bf09f32c"
      },
      "source": [
        "model.fit(train_dataset, epochs=10)"
      ],
      "id": "Be_ZGDaCltiM",
      "execution_count": null,
      "outputs": [
        {
          "output_type": "stream",
          "name": "stdout",
          "text": [
            "Epoch 1/10\n",
            "1836/1836 [==============================] - 30s 15ms/step - loss: 0.6016 - accuracy: 0.7705\n",
            "Epoch 2/10\n",
            "1836/1836 [==============================] - 27s 15ms/step - loss: 0.2649 - accuracy: 0.9078\n",
            "Epoch 3/10\n",
            "1836/1836 [==============================] - 27s 15ms/step - loss: 0.1543 - accuracy: 0.9485\n",
            "Epoch 4/10\n",
            "1836/1836 [==============================] - 27s 15ms/step - loss: 0.0992 - accuracy: 0.9663\n",
            "Epoch 5/10\n",
            "1836/1836 [==============================] - 27s 15ms/step - loss: 0.0679 - accuracy: 0.9770\n"
          ]
        },
        {
          "output_type": "error",
          "ename": "KeyboardInterrupt",
          "evalue": "ignored",
          "traceback": [
            "\u001b[0;31m---------------------------------------------------------------------------\u001b[0m",
            "\u001b[0;31mKeyboardInterrupt\u001b[0m                         Traceback (most recent call last)",
            "\u001b[0;32m<ipython-input-88-ee484d448bfb>\u001b[0m in \u001b[0;36m<module>\u001b[0;34m()\u001b[0m\n\u001b[0;32m----> 1\u001b[0;31m \u001b[0mmodel\u001b[0m\u001b[0;34m.\u001b[0m\u001b[0mfit\u001b[0m\u001b[0;34m(\u001b[0m\u001b[0mtrain_dataset\u001b[0m\u001b[0;34m,\u001b[0m \u001b[0mepochs\u001b[0m\u001b[0;34m=\u001b[0m\u001b[0;36m10\u001b[0m\u001b[0;34m)\u001b[0m\u001b[0;34m\u001b[0m\u001b[0;34m\u001b[0m\u001b[0m\n\u001b[0m",
            "\u001b[0;32m/usr/local/lib/python3.7/dist-packages/keras/utils/traceback_utils.py\u001b[0m in \u001b[0;36merror_handler\u001b[0;34m(*args, **kwargs)\u001b[0m\n\u001b[1;32m     62\u001b[0m     \u001b[0mfiltered_tb\u001b[0m \u001b[0;34m=\u001b[0m \u001b[0;32mNone\u001b[0m\u001b[0;34m\u001b[0m\u001b[0;34m\u001b[0m\u001b[0m\n\u001b[1;32m     63\u001b[0m     \u001b[0;32mtry\u001b[0m\u001b[0;34m:\u001b[0m\u001b[0;34m\u001b[0m\u001b[0;34m\u001b[0m\u001b[0m\n\u001b[0;32m---> 64\u001b[0;31m       \u001b[0;32mreturn\u001b[0m \u001b[0mfn\u001b[0m\u001b[0;34m(\u001b[0m\u001b[0;34m*\u001b[0m\u001b[0margs\u001b[0m\u001b[0;34m,\u001b[0m \u001b[0;34m**\u001b[0m\u001b[0mkwargs\u001b[0m\u001b[0;34m)\u001b[0m\u001b[0;34m\u001b[0m\u001b[0;34m\u001b[0m\u001b[0m\n\u001b[0m\u001b[1;32m     65\u001b[0m     \u001b[0;32mexcept\u001b[0m \u001b[0mException\u001b[0m \u001b[0;32mas\u001b[0m \u001b[0me\u001b[0m\u001b[0;34m:\u001b[0m  \u001b[0;31m# pylint: disable=broad-except\u001b[0m\u001b[0;34m\u001b[0m\u001b[0;34m\u001b[0m\u001b[0m\n\u001b[1;32m     66\u001b[0m       \u001b[0mfiltered_tb\u001b[0m \u001b[0;34m=\u001b[0m \u001b[0m_process_traceback_frames\u001b[0m\u001b[0;34m(\u001b[0m\u001b[0me\u001b[0m\u001b[0;34m.\u001b[0m\u001b[0m__traceback__\u001b[0m\u001b[0;34m)\u001b[0m\u001b[0;34m\u001b[0m\u001b[0;34m\u001b[0m\u001b[0m\n",
            "\u001b[0;32m/usr/local/lib/python3.7/dist-packages/keras/engine/training.py\u001b[0m in \u001b[0;36mfit\u001b[0;34m(self, x, y, batch_size, epochs, verbose, callbacks, validation_split, validation_data, shuffle, class_weight, sample_weight, initial_epoch, steps_per_epoch, validation_steps, validation_batch_size, validation_freq, max_queue_size, workers, use_multiprocessing)\u001b[0m\n\u001b[1;32m   1203\u001b[0m       \u001b[0mlogs\u001b[0m \u001b[0;34m=\u001b[0m \u001b[0;32mNone\u001b[0m\u001b[0;34m\u001b[0m\u001b[0;34m\u001b[0m\u001b[0m\n\u001b[1;32m   1204\u001b[0m       \u001b[0;32mfor\u001b[0m \u001b[0mepoch\u001b[0m\u001b[0;34m,\u001b[0m \u001b[0miterator\u001b[0m \u001b[0;32min\u001b[0m \u001b[0mdata_handler\u001b[0m\u001b[0;34m.\u001b[0m\u001b[0menumerate_epochs\u001b[0m\u001b[0;34m(\u001b[0m\u001b[0;34m)\u001b[0m\u001b[0;34m:\u001b[0m\u001b[0;34m\u001b[0m\u001b[0;34m\u001b[0m\u001b[0m\n\u001b[0;32m-> 1205\u001b[0;31m         \u001b[0mself\u001b[0m\u001b[0;34m.\u001b[0m\u001b[0mreset_metrics\u001b[0m\u001b[0;34m(\u001b[0m\u001b[0;34m)\u001b[0m\u001b[0;34m\u001b[0m\u001b[0;34m\u001b[0m\u001b[0m\n\u001b[0m\u001b[1;32m   1206\u001b[0m         \u001b[0mcallbacks\u001b[0m\u001b[0;34m.\u001b[0m\u001b[0mon_epoch_begin\u001b[0m\u001b[0;34m(\u001b[0m\u001b[0mepoch\u001b[0m\u001b[0;34m)\u001b[0m\u001b[0;34m\u001b[0m\u001b[0;34m\u001b[0m\u001b[0m\n\u001b[1;32m   1207\u001b[0m         \u001b[0;32mwith\u001b[0m \u001b[0mdata_handler\u001b[0m\u001b[0;34m.\u001b[0m\u001b[0mcatch_stop_iteration\u001b[0m\u001b[0;34m(\u001b[0m\u001b[0;34m)\u001b[0m\u001b[0;34m:\u001b[0m\u001b[0;34m\u001b[0m\u001b[0;34m\u001b[0m\u001b[0m\n",
            "\u001b[0;31mKeyboardInterrupt\u001b[0m: "
          ]
        }
      ]
    },
    {
      "cell_type": "code",
      "metadata": {
        "colab": {
          "base_uri": "https://localhost:8080/"
        },
        "id": "mipPak-mltiN",
        "outputId": "9f24b8df-edb3-4c84-f3f5-56e2cb5444cf"
      },
      "source": [
        "y_pred = model.predict(X_valid)\n",
        "f1_score(y_valid, np.argmax(y_pred, axis=1), average='micro')"
      ],
      "id": "mipPak-mltiN",
      "execution_count": null,
      "outputs": [
        {
          "output_type": "execute_result",
          "data": {
            "text/plain": [
              "0.9819605173587475"
            ]
          },
          "metadata": {},
          "execution_count": 89
        }
      ]
    },
    {
      "cell_type": "code",
      "metadata": {
        "id": "6rWSLIWmrYBB"
      },
      "source": [
        "test_corpus = RedditCorpus(test_file)"
      ],
      "id": "6rWSLIWmrYBB",
      "execution_count": null,
      "outputs": []
    },
    {
      "cell_type": "code",
      "metadata": {
        "colab": {
          "base_uri": "https://localhost:8080/"
        },
        "id": "SRj-uc4YrbTz",
        "outputId": "7e49672b-8b38-4a52-df4d-096b3b9e43f1"
      },
      "source": [
        "X_test = [text_to_token_ids(text) for text in test_corpus]\n",
        "X_test = np.array(X_test)"
      ],
      "id": "SRj-uc4YrbTz",
      "execution_count": null,
      "outputs": [
        {
          "output_type": "stream",
          "name": "stderr",
          "text": [
            "/usr/local/lib/python3.7/dist-packages/ipykernel_launcher.py:2: VisibleDeprecationWarning: Creating an ndarray from ragged nested sequences (which is a list-or-tuple of lists-or-tuples-or ndarrays with different lengths or shapes) is deprecated. If you meant to do this, you must specify 'dtype=object' when creating the ndarray\n",
            "  \n"
          ]
        }
      ]
    },
    {
      "cell_type": "code",
      "metadata": {
        "id": "z3rZ2X4zrjRH"
      },
      "source": [
        "X_test_padded = tf.keras.preprocessing.sequence.pad_sequences(\n",
        "    X_test,\n",
        "    padding='post',\n",
        "    value=0,\n",
        "    maxlen=SEQUENCE_LEN,\n",
        ")"
      ],
      "id": "z3rZ2X4zrjRH",
      "execution_count": null,
      "outputs": []
    },
    {
      "cell_type": "code",
      "metadata": {
        "id": "jnZ6jorlrobi"
      },
      "source": [
        "y_pred_test = np.argmax(model.predict(X_test_padded), axis=1)"
      ],
      "id": "jnZ6jorlrobi",
      "execution_count": null,
      "outputs": []
    },
    {
      "cell_type": "code",
      "metadata": {
        "id": "YvTmRLhartxv"
      },
      "source": [
        "pd.DataFrame({\n",
        "    'id': test_df.index.tolist(),\n",
        "    'subreddit': [value_map_inv.get(y) for y in y_pred_test]\n",
        "}).to_csv('Submission-2.csv', index = False)"
      ],
      "id": "YvTmRLhartxv",
      "execution_count": null,
      "outputs": []
    },
    {
      "cell_type": "code",
      "metadata": {
        "id": "pAyQU8M6sMpd"
      },
      "source": [
        ""
      ],
      "id": "pAyQU8M6sMpd",
      "execution_count": null,
      "outputs": []
    }
  ]
}