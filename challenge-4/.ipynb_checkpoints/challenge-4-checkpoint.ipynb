{
 "cells": [
  {
   "cell_type": "code",
   "execution_count": 55,
   "id": "78121d8a",
   "metadata": {},
   "outputs": [],
   "source": [
    "from sklearn.feature_extraction.text import CountVectorizer\n",
    "import pandas as pd\n",
    "import nltk\n",
    "import numpy as np, pandas as pd\n",
    "import matplotlib.pyplot as plt\n",
    "from sklearn.datasets import fetch_20newsgroups\n",
    "from sklearn.feature_extraction.text import TfidfVectorizer, TfidfTransformer\n",
    "from sklearn.naive_bayes import MultinomialNB\n",
    "from sklearn.pipeline import make_pipeline\n",
    "from sklearn.metrics import confusion_matrix, accuracy_score\n",
    "from sklearn.model_selection import train_test_split\n",
    "from nltk.stem.snowball import SnowballStemmer\n",
    "\n",
    "english_stemmer = nltk.stem.SnowballStemmer('english')\n",
    "\n",
    "class StemmedTfidfVectorizer(TfidfVectorizer):\n",
    "    def build_analyzer(self):\n",
    "        analyzer = super(TfidfVectorizer, self).build_analyzer()\n",
    "        return lambda doc: (english_stemmer.stem(w) for w in analyzer(doc))\n",
    "    \n",
    "    \n",
    "\n",
    "train_file = \"data\\\\train.csv\"\n",
    "test_file = \"data\\\\test_text.csv\"\n",
    "\n",
    "train_df = pd.read_csv(train_file)\n",
    "test_df = pd.read_csv(test_file)\n",
    "\n",
    "\n",
    "X, X_valid, y, y_valid = train_test_split(train_df.text, train_df.subreddit, test_size=0.1, random_state=42)\n"
   ]
  },
  {
   "cell_type": "code",
   "execution_count": 56,
   "id": "864459ea",
   "metadata": {},
   "outputs": [],
   "source": [
    "# vectorizer = CountVectorizer()\n",
    "# all_X = vectorizer.fit_transform(list(train_df.text) + list(test_df.text))\n",
    "\n",
    "# X = vectorizer.transform(X)\n",
    "# X_test = vectorizer.transform(test_df.text)\n",
    "# X_valid = vectorizer.transform(X_valid)"
   ]
  },
  {
   "cell_type": "code",
   "execution_count": 58,
   "id": "7e222066",
   "metadata": {},
   "outputs": [],
   "source": [
    "tfidf_transformer = StemmedTfidfVectorizer()\n",
    "tfidf_transformer.fit(list(train_df.text) + list(test_df.text))\n",
    "\n",
    "X_tfidf = tfidf_transformer.transform(X)\n",
    "X_test_tfidf = tfidf_transformer.transform(test_df.text)\n",
    "X_valid_tfidf = tfidf_transformer.transform(X_valid)"
   ]
  },
  {
   "cell_type": "code",
   "execution_count": 64,
   "id": "2ab62728",
   "metadata": {},
   "outputs": [],
   "source": [
    "\n",
    "model = MultinomialNB(fit_prior=False, alpha=1e-1)\n",
    "model.fit(X_tfidf, y)\n",
    "# Predict the categories of the test data\n",
    "predicted_categories = model.predict(X_test_tfidf)\n",
    "predicted_categories_valid = model.predict(X_valid_tfidf)"
   ]
  },
  {
   "cell_type": "code",
   "execution_count": 65,
   "id": "0cf85c0e",
   "metadata": {},
   "outputs": [
    {
     "data": {
      "text/plain": [
       "0.8311776718856365"
      ]
     },
     "execution_count": 65,
     "metadata": {},
     "output_type": "execute_result"
    }
   ],
   "source": [
    "from sklearn.metrics import classification_report, f1_score\n",
    "\n",
    "f1_score(y_valid, predicted_categories_valid, average='micro')"
   ]
  },
  {
   "cell_type": "code",
   "execution_count": 35,
   "id": "8aa03639",
   "metadata": {},
   "outputs": [],
   "source": [
    "test_df[\"subreddit\"] = predicted_categories"
   ]
  },
  {
   "cell_type": "code",
   "execution_count": 36,
   "id": "1ffa65f7",
   "metadata": {},
   "outputs": [
    {
     "data": {
      "text/html": [
       "<div>\n",
       "<style scoped>\n",
       "    .dataframe tbody tr th:only-of-type {\n",
       "        vertical-align: middle;\n",
       "    }\n",
       "\n",
       "    .dataframe tbody tr th {\n",
       "        vertical-align: top;\n",
       "    }\n",
       "\n",
       "    .dataframe thead th {\n",
       "        text-align: right;\n",
       "    }\n",
       "</style>\n",
       "<table border=\"1\" class=\"dataframe\">\n",
       "  <thead>\n",
       "    <tr style=\"text-align: right;\">\n",
       "      <th></th>\n",
       "      <th>text</th>\n",
       "      <th>subreddit</th>\n",
       "    </tr>\n",
       "  </thead>\n",
       "  <tbody>\n",
       "    <tr>\n",
       "      <th>0</th>\n",
       "      <td>“Work can feel like play when done right” foll...</td>\n",
       "      <td>antiwork</td>\n",
       "    </tr>\n",
       "    <tr>\n",
       "      <th>1</th>\n",
       "      <td>Passenger - If It Wasn't For The Man - EARTHQU...</td>\n",
       "      <td>Jokes</td>\n",
       "    </tr>\n",
       "    <tr>\n",
       "      <th>2</th>\n",
       "      <td>Trolls, my emotions make you think you need him?</td>\n",
       "      <td>Jokes</td>\n",
       "    </tr>\n",
       "    <tr>\n",
       "      <th>3</th>\n",
       "      <td>Even women who seek lawful abortions out of th...</td>\n",
       "      <td>antiwork</td>\n",
       "    </tr>\n",
       "    <tr>\n",
       "      <th>4</th>\n",
       "      <td>Planet GameStonk</td>\n",
       "      <td>worldnews</td>\n",
       "    </tr>\n",
       "    <tr>\n",
       "      <th>...</th>\n",
       "      <td>...</td>\n",
       "      <td>...</td>\n",
       "    </tr>\n",
       "    <tr>\n",
       "      <th>12583</th>\n",
       "      <td>Chinese general who refused orders to attack T...</td>\n",
       "      <td>worldnews</td>\n",
       "    </tr>\n",
       "    <tr>\n",
       "      <th>12584</th>\n",
       "      <td>Huge Reversal Off Bottom 2004-2020 Trendline</td>\n",
       "      <td>wallstreetbets</td>\n",
       "    </tr>\n",
       "    <tr>\n",
       "      <th>12585</th>\n",
       "      <td>Someone teaching Dollar General a lecture on e...</td>\n",
       "      <td>antiwork</td>\n",
       "    </tr>\n",
       "    <tr>\n",
       "      <th>12586</th>\n",
       "      <td>Over 36,000 people probed in one year over ‘in...</td>\n",
       "      <td>worldnews</td>\n",
       "    </tr>\n",
       "    <tr>\n",
       "      <th>12587</th>\n",
       "      <td>The Amazon is burning again. \"The federal gove...</td>\n",
       "      <td>antiwork</td>\n",
       "    </tr>\n",
       "  </tbody>\n",
       "</table>\n",
       "<p>12588 rows × 2 columns</p>\n",
       "</div>"
      ],
      "text/plain": [
       "                                                    text       subreddit\n",
       "0      “Work can feel like play when done right” foll...        antiwork\n",
       "1      Passenger - If It Wasn't For The Man - EARTHQU...           Jokes\n",
       "2       Trolls, my emotions make you think you need him?           Jokes\n",
       "3      Even women who seek lawful abortions out of th...        antiwork\n",
       "4                                       Planet GameStonk       worldnews\n",
       "...                                                  ...             ...\n",
       "12583  Chinese general who refused orders to attack T...       worldnews\n",
       "12584       Huge Reversal Off Bottom 2004-2020 Trendline  wallstreetbets\n",
       "12585  Someone teaching Dollar General a lecture on e...        antiwork\n",
       "12586  Over 36,000 people probed in one year over ‘in...       worldnews\n",
       "12587  The Amazon is burning again. \"The federal gove...        antiwork\n",
       "\n",
       "[12588 rows x 2 columns]"
      ]
     },
     "execution_count": 36,
     "metadata": {},
     "output_type": "execute_result"
    }
   ],
   "source": [
    "test_df"
   ]
  },
  {
   "cell_type": "code",
   "execution_count": null,
   "id": "59f208ab",
   "metadata": {},
   "outputs": [],
   "source": []
  }
 ],
 "metadata": {
  "kernelspec": {
   "display_name": "Python 3",
   "language": "python",
   "name": "python3"
  },
  "language_info": {
   "codemirror_mode": {
    "name": "ipython",
    "version": 3
   },
   "file_extension": ".py",
   "mimetype": "text/x-python",
   "name": "python",
   "nbconvert_exporter": "python",
   "pygments_lexer": "ipython3",
   "version": "3.8.8"
  }
 },
 "nbformat": 4,
 "nbformat_minor": 5
}
