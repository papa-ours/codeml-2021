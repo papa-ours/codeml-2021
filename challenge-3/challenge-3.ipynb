{
 "cells": [
  {
   "cell_type": "code",
   "execution_count": null,
   "metadata": {},
   "outputs": [],
   "source": [
    "!pip install librosa"
   ]
  },
  {
   "cell_type": "code",
   "execution_count": null,
   "metadata": {},
   "outputs": [],
   "source": [
    "!pip install audio_metadata"
   ]
  },
  {
   "cell_type": "code",
   "execution_count": 1,
   "metadata": {},
   "outputs": [],
   "source": [
    "import librosa\n",
    "import pandas as pd\n",
    "import numpy as np\n",
    "import os\n",
    "import sys\n",
    "\n",
    "from sklearn.model_selection import train_test_split\n",
    "\n",
    "from tqdm import tqdm\n",
    "from tinytag import TinyTag"
   ]
  },
  {
   "cell_type": "code",
   "execution_count": 2,
   "metadata": {},
   "outputs": [],
   "source": [
    "if not sys.warnoptions:\n",
    "    import warnings\n",
    "    warnings.simplefilter(\"ignore\")"
   ]
  },
  {
   "cell_type": "code",
   "execution_count": 3,
   "metadata": {},
   "outputs": [],
   "source": [
    "tqdm.pandas()"
   ]
  },
  {
   "cell_type": "markdown",
   "metadata": {},
   "source": [
    "# Load Data"
   ]
  },
  {
   "cell_type": "code",
   "execution_count": 4,
   "metadata": {},
   "outputs": [],
   "source": [
    "DATA_DIR = 'data'"
   ]
  },
  {
   "cell_type": "code",
   "execution_count": 5,
   "metadata": {},
   "outputs": [],
   "source": [
    "train_df = pd.read_csv('Train.csv')\n",
    "test_df = pd.read_csv('Test.csv')"
   ]
  },
  {
   "cell_type": "code",
   "execution_count": 6,
   "metadata": {},
   "outputs": [],
   "source": [
    "value_map = {target: i  for i, target in enumerate(train_df.Target.unique())}\n",
    "value_map_inv = {i: target  for i, target in enumerate(train_df.Target.unique())}"
   ]
  },
  {
   "cell_type": "code",
   "execution_count": 7,
   "metadata": {},
   "outputs": [],
   "source": [
    "y_train = train_df.Target.apply(lambda t: value_map.get(t))"
   ]
  },
  {
   "cell_type": "code",
   "execution_count": 8,
   "metadata": {},
   "outputs": [],
   "source": [
    "train_df.loc[:, 'Path'] = train_df.Filename.apply(lambda f: os.path.join(DATA_DIR, 'train', f))\n",
    "test_df.loc[:, 'Path'] = test_df.Filename.apply(lambda f: os.path.join(DATA_DIR, 'test', f))"
   ]
  },
  {
   "cell_type": "code",
   "execution_count": 9,
   "metadata": {},
   "outputs": [],
   "source": [
    "train_index, valid_index = train_test_split(train_df.index, test_size=.2)"
   ]
  },
  {
   "cell_type": "markdown",
   "metadata": {},
   "source": [
    "# Text Features"
   ]
  },
  {
   "cell_type": "code",
   "execution_count": 10,
   "metadata": {},
   "outputs": [],
   "source": [
    "import audio_metadata"
   ]
  },
  {
   "cell_type": "code",
   "execution_count": 11,
   "metadata": {},
   "outputs": [
    {
     "name": "stderr",
     "output_type": "stream",
     "text": [
      "100%|██████████| 1498/1498 [00:01<00:00, 1168.48it/s]\n"
     ]
    }
   ],
   "source": [
    "train_tags = train_df.iloc[train_index].Path.progress_apply(lambda p: audio_metadata.load(p).tags)\n",
    "train_titles = [tag.get('title', [''])[0] for tag in train_tags]\n",
    "train_genres = [tag.get('genre', [''])[0] for tag in train_tags]"
   ]
  },
  {
   "cell_type": "code",
   "execution_count": 12,
   "metadata": {},
   "outputs": [],
   "source": [
    "from sklearn.feature_extraction.text import TfidfVectorizer\n",
    "tfidf_title = TfidfVectorizer().fit(train_titles)"
   ]
  },
  {
   "cell_type": "code",
   "execution_count": 13,
   "metadata": {},
   "outputs": [],
   "source": [
    "from sklearn.feature_extraction.text import TfidfVectorizer\n",
    "tfidf_genre = TfidfVectorizer(use_idf=False).fit(train_genres)"
   ]
  },
  {
   "cell_type": "code",
   "execution_count": 14,
   "metadata": {},
   "outputs": [],
   "source": [
    "train_tfidf_title = tfidf_title.transform(train_titles).toarray()\n",
    "train_tfidf_genre = tfidf_genre.transform(train_genres).toarray()"
   ]
  },
  {
   "cell_type": "code",
   "execution_count": 15,
   "metadata": {},
   "outputs": [],
   "source": [
    "from sklearn.naive_bayes import MultinomialNB"
   ]
  },
  {
   "cell_type": "code",
   "execution_count": 16,
   "metadata": {},
   "outputs": [],
   "source": [
    "nb_title = MultinomialNB().fit(train_tfidf_title, y_train[train_index])\n",
    "nb_genre = MultinomialNB().fit(train_tfidf_genre, y_train[train_index])"
   ]
  },
  {
   "cell_type": "code",
   "execution_count": 17,
   "metadata": {},
   "outputs": [],
   "source": [
    "nb_pred_train_title = nb_title.predict(train_tfidf_title)\n",
    "nb_pred_train_genre = nb_genre.predict(train_tfidf_genre)"
   ]
  },
  {
   "cell_type": "code",
   "execution_count": 18,
   "metadata": {},
   "outputs": [
    {
     "name": "stderr",
     "output_type": "stream",
     "text": [
      "100%|██████████| 375/375 [00:00<00:00, 1212.86it/s]\n"
     ]
    }
   ],
   "source": [
    "valid_tags = train_df.iloc[valid_index].Path.progress_apply(lambda p: audio_metadata.load(p).tags)\n",
    "valid_titles = [tag.get('title', [''])[0] for tag in valid_tags]\n",
    "valid_genres = [tag.get('genre', [''])[0] for tag in valid_tags]"
   ]
  },
  {
   "cell_type": "code",
   "execution_count": 19,
   "metadata": {},
   "outputs": [],
   "source": [
    "valid_tfidf_title = tfidf_title.transform(valid_titles).toarray()\n",
    "valid_tfidf_genre = tfidf_genre.transform(valid_genres).toarray()"
   ]
  },
  {
   "cell_type": "code",
   "execution_count": 20,
   "metadata": {},
   "outputs": [],
   "source": [
    "nb_pred_valid_title = nb_title.predict(valid_tfidf_title)\n",
    "nb_pred_valid_genre = nb_genre.predict(valid_tfidf_genre)"
   ]
  },
  {
   "cell_type": "code",
   "execution_count": 21,
   "metadata": {},
   "outputs": [
    {
     "name": "stdout",
     "output_type": "stream",
     "text": [
      "Title Naive Bayes\n"
     ]
    },
    {
     "ename": "NameError",
     "evalue": "name 'classification_report' is not defined",
     "output_type": "error",
     "traceback": [
      "\u001b[0;31m---------------------------------------------------------------------------\u001b[0m",
      "\u001b[0;31mNameError\u001b[0m                                 Traceback (most recent call last)",
      "\u001b[0;32m<ipython-input-21-ae8cd49d0203>\u001b[0m in \u001b[0;36m<module>\u001b[0;34m\u001b[0m\n\u001b[1;32m      1\u001b[0m \u001b[0mprint\u001b[0m\u001b[0;34m(\u001b[0m\u001b[0;34m'Title Naive Bayes'\u001b[0m\u001b[0;34m)\u001b[0m\u001b[0;34m\u001b[0m\u001b[0;34m\u001b[0m\u001b[0m\n\u001b[0;32m----> 2\u001b[0;31m \u001b[0mprint\u001b[0m\u001b[0;34m(\u001b[0m\u001b[0mclassification_report\u001b[0m\u001b[0;34m(\u001b[0m\u001b[0my_train\u001b[0m\u001b[0;34m[\u001b[0m\u001b[0mvalid_index\u001b[0m\u001b[0;34m]\u001b[0m\u001b[0;34m,\u001b[0m \u001b[0mnb_pred_valid_title\u001b[0m\u001b[0;34m)\u001b[0m\u001b[0;34m)\u001b[0m\u001b[0;34m\u001b[0m\u001b[0;34m\u001b[0m\u001b[0m\n\u001b[0m\u001b[1;32m      3\u001b[0m \u001b[0;34m\u001b[0m\u001b[0m\n\u001b[1;32m      4\u001b[0m \u001b[0mprint\u001b[0m\u001b[0;34m(\u001b[0m\u001b[0;34m'Genre Naive Bayes'\u001b[0m\u001b[0;34m)\u001b[0m\u001b[0;34m\u001b[0m\u001b[0;34m\u001b[0m\u001b[0m\n\u001b[1;32m      5\u001b[0m \u001b[0mprint\u001b[0m\u001b[0;34m(\u001b[0m\u001b[0mclassification_report\u001b[0m\u001b[0;34m(\u001b[0m\u001b[0my_train\u001b[0m\u001b[0;34m[\u001b[0m\u001b[0mvalid_index\u001b[0m\u001b[0;34m]\u001b[0m\u001b[0;34m,\u001b[0m \u001b[0mnb_pred_valid_genre\u001b[0m\u001b[0;34m)\u001b[0m\u001b[0;34m)\u001b[0m\u001b[0;34m\u001b[0m\u001b[0;34m\u001b[0m\u001b[0m\n",
      "\u001b[0;31mNameError\u001b[0m: name 'classification_report' is not defined"
     ]
    }
   ],
   "source": [
    "print('Title Naive Bayes')\n",
    "print(classification_report(y_train[valid_index], nb_pred_valid_title))\n",
    "\n",
    "print('Genre Naive Bayes')\n",
    "print(classification_report(y_train[valid_index], nb_pred_valid_genre))"
   ]
  },
  {
   "cell_type": "code",
   "execution_count": 24,
   "metadata": {},
   "outputs": [
    {
     "name": "stderr",
     "output_type": "stream",
     "text": [
      "100%|██████████| 253/253 [00:00<00:00, 3719.55it/s]\n"
     ]
    }
   ],
   "source": [
    "test_tags = test_df.Path.progress_apply(lambda p: audio_metadata.load(p).tags)\n",
    "test_titles = [tag.get('title', [''])[0] for tag in test_tags]\n",
    "test_genres = [tag.get('genre', [''])[0] for tag in test_tags]\n",
    "test_tfidf_title = tfidf_title.transform(test_titles).toarray()\n",
    "test_tfidf_genre = tfidf_genre.transform(test_genres).toarray()"
   ]
  },
  {
   "cell_type": "code",
   "execution_count": 25,
   "metadata": {},
   "outputs": [],
   "source": [
    "nb_pred_test_title = nb_title.predict(test_tfidf_title)\n",
    "nb_pred_test_genre = nb_genre.predict(test_tfidf_genre)"
   ]
  },
  {
   "cell_type": "markdown",
   "metadata": {},
   "source": [
    "# Audio Features"
   ]
  },
  {
   "cell_type": "code",
   "execution_count": 26,
   "metadata": {},
   "outputs": [
    {
     "name": "stderr",
     "output_type": "stream",
     "text": [
      "100%|██████████| 1873/1873 [12:25<00:00,  2.51it/s]\n"
     ]
    }
   ],
   "source": [
    "streams = train_df.Path.progress_apply(lambda f: librosa.load(f)[0])"
   ]
  },
  {
   "cell_type": "code",
   "execution_count": 27,
   "metadata": {},
   "outputs": [
    {
     "name": "stderr",
     "output_type": "stream",
     "text": [
      "100%|██████████| 1873/1873 [05:33<00:00,  5.62it/s]\n"
     ]
    }
   ],
   "source": [
    "train_tonnetz = streams.progress_apply(librosa.feature.tonnetz)"
   ]
  },
  {
   "cell_type": "code",
   "execution_count": 28,
   "metadata": {},
   "outputs": [],
   "source": [
    "train_tonnetz_mean = train_tonnetz.apply(lambda t: np.mean(t, axis=1))"
   ]
  },
  {
   "cell_type": "code",
   "execution_count": 29,
   "metadata": {},
   "outputs": [
    {
     "name": "stderr",
     "output_type": "stream",
     "text": [
      "100%|██████████| 1873/1873 [00:20<00:00, 92.41it/s]\n"
     ]
    }
   ],
   "source": [
    "train_mfcc = streams.progress_apply(librosa.feature.mfcc)"
   ]
  },
  {
   "cell_type": "code",
   "execution_count": 30,
   "metadata": {},
   "outputs": [],
   "source": [
    "train_mfcc_mean = train_mfcc.apply(lambda m: np.mean(m, axis=1))\n",
    "train_mfcc_mean_ = np.array(train_mfcc_mean.tolist())"
   ]
  },
  {
   "cell_type": "code",
   "execution_count": 31,
   "metadata": {},
   "outputs": [
    {
     "name": "stderr",
     "output_type": "stream",
     "text": [
      "100%|██████████| 1873/1873 [00:48<00:00, 38.37it/s]\n"
     ]
    }
   ],
   "source": [
    "train_tempo = streams.progress_apply(librosa.beat.tempo)\n",
    "train_tempo_ = np.array(train_tempo.tolist())"
   ]
  },
  {
   "cell_type": "code",
   "execution_count": 32,
   "metadata": {},
   "outputs": [],
   "source": [
    "X = np.array(train_tonnetz_mean.tolist())\n",
    "X = np.hstack((X, train_tempo_))\n",
    "X = np.hstack((X, train_mfcc_mean_))"
   ]
  },
  {
   "cell_type": "code",
   "execution_count": 33,
   "metadata": {},
   "outputs": [],
   "source": [
    "X_train, X_valid = X[train_index], X[valid_index]\n",
    "y_train_, y_valid = y_train[train_index], y_train[valid_index]"
   ]
  },
  {
   "cell_type": "code",
   "execution_count": null,
   "metadata": {},
   "outputs": [],
   "source": [
    "# X_train = np.hstack((X_train, nb_pred_train_title.reshape(-1, 1)))\n",
    "# X_train = np.hstack((X_train, nb_pred_train_genre.reshape(-1, 1)))\n",
    "\n",
    "# X_valid = np.hstack((X_valid, nb_pred_valid_title.reshape(-1, 1)))\n",
    "# X_valid = np.hstack((X_valid, nb_pred_valid_genre.reshape(-1, 1)))"
   ]
  },
  {
   "cell_type": "code",
   "execution_count": 34,
   "metadata": {},
   "outputs": [],
   "source": [
    "from sklearn.ensemble import RandomForestClassifier\n",
    "from sklearn.svm import LinearSVC\n",
    "from sklearn.metrics import classification_report"
   ]
  },
  {
   "cell_type": "code",
   "execution_count": 35,
   "metadata": {},
   "outputs": [],
   "source": [
    "rt = RandomForestClassifier().fit(X_train, y_train_)"
   ]
  },
  {
   "cell_type": "code",
   "execution_count": 36,
   "metadata": {},
   "outputs": [
    {
     "name": "stdout",
     "output_type": "stream",
     "text": [
      "              precision    recall  f1-score   support\n",
      "\n",
      "           0       0.78      0.74      0.76       141\n",
      "           1       0.85      0.87      0.86       234\n",
      "\n",
      "    accuracy                           0.82       375\n",
      "   macro avg       0.81      0.81      0.81       375\n",
      "weighted avg       0.82      0.82      0.82       375\n",
      "\n"
     ]
    }
   ],
   "source": [
    "y_pred = rt.predict(X_valid)\n",
    "print(classification_report(y_valid, y_pred))"
   ]
  },
  {
   "cell_type": "code",
   "execution_count": 37,
   "metadata": {},
   "outputs": [
    {
     "name": "stderr",
     "output_type": "stream",
     "text": [
      "100%|██████████| 253/253 [01:39<00:00,  2.53it/s]\n"
     ]
    }
   ],
   "source": [
    "test_streams = test_df.Path.progress_apply(lambda f: librosa.load(f)[0])"
   ]
  },
  {
   "cell_type": "code",
   "execution_count": 38,
   "metadata": {},
   "outputs": [
    {
     "name": "stderr",
     "output_type": "stream",
     "text": [
      "100%|██████████| 253/253 [00:44<00:00,  5.74it/s]\n"
     ]
    }
   ],
   "source": [
    "test_tonnetz = test_streams.progress_apply(librosa.feature.tonnetz)"
   ]
  },
  {
   "cell_type": "code",
   "execution_count": 39,
   "metadata": {},
   "outputs": [
    {
     "name": "stderr",
     "output_type": "stream",
     "text": [
      "100%|██████████| 253/253 [00:06<00:00, 41.93it/s]\n"
     ]
    }
   ],
   "source": [
    "test_tempo = test_streams.progress_apply(librosa.beat.tempo)"
   ]
  },
  {
   "cell_type": "code",
   "execution_count": 40,
   "metadata": {},
   "outputs": [
    {
     "name": "stderr",
     "output_type": "stream",
     "text": [
      "100%|██████████| 253/253 [00:02<00:00, 99.95it/s] \n"
     ]
    }
   ],
   "source": [
    "test_mfcc = test_streams.progress_apply(librosa.feature.mfcc)"
   ]
  },
  {
   "cell_type": "code",
   "execution_count": 42,
   "metadata": {},
   "outputs": [],
   "source": [
    "test_tonnetz_mean = test_tonnetz.apply(lambda t: np.mean(t, axis=1))\n",
    "test_mfcc_mean = test_mfcc.apply(lambda t: np.mean(t, axis=1))\n",
    "\n",
    "X_test = np.array(test_tonnetz_mean.tolist())\n",
    "X_test = np.hstack((X_test, np.array(test_tempo.tolist())))\n",
    "X_test = np.hstack((X_test, np.array(test_mfcc_mean.tolist())))\n",
    "\n",
    "# X_test = np.hstack((X_test, nb_pred_test_title.reshape(-1, 1)))\n",
    "# X_test = np.hstack((X_test, nb_pred_test_genre.reshape(-1, 1)))"
   ]
  },
  {
   "cell_type": "code",
   "execution_count": 43,
   "metadata": {},
   "outputs": [],
   "source": [
    "y_pred = rt.predict(X_test)"
   ]
  },
  {
   "cell_type": "code",
   "execution_count": 44,
   "metadata": {},
   "outputs": [],
   "source": [
    "test_df.loc[:, 'Prediction'] = y_pred\n",
    "test_df.loc[:, 'Title'] = test_titles"
   ]
  },
  {
   "cell_type": "code",
   "execution_count": 61,
   "metadata": {},
   "outputs": [],
   "source": [
    "y_pred_by_title = (test_df.groupby('Title').mean().Prediction > .75).astype(int)"
   ]
  },
  {
   "cell_type": "code",
   "execution_count": 62,
   "metadata": {},
   "outputs": [],
   "source": [
    "y_pred_ = test_df.Title.apply(lambda t: y_pred_by_title.loc[t])"
   ]
  },
  {
   "cell_type": "markdown",
   "metadata": {},
   "source": [
    "# Submission"
   ]
  },
  {
   "cell_type": "code",
   "execution_count": 63,
   "metadata": {},
   "outputs": [],
   "source": [
    "pd.DataFrame({\n",
    "    'Filename': test_df.Filename,\n",
    "    'Target': [value_map_inv[y] for y in y_pred_],\n",
    "}).to_csv('Submission-13.csv', index=False)"
   ]
  },
  {
   "cell_type": "code",
   "execution_count": null,
   "metadata": {},
   "outputs": [],
   "source": []
  }
 ],
 "metadata": {
  "kernelspec": {
   "display_name": "Python 3",
   "language": "python",
   "name": "python3"
  },
  "language_info": {
   "codemirror_mode": {
    "name": "ipython",
    "version": 3
   },
   "file_extension": ".py",
   "mimetype": "text/x-python",
   "name": "python",
   "nbconvert_exporter": "python",
   "pygments_lexer": "ipython3",
   "version": "3.8.3"
  }
 },
 "nbformat": 4,
 "nbformat_minor": 4
}
